{
 "cells": [
  {
   "cell_type": "code",
   "execution_count": 1,
   "metadata": {},
   "outputs": [],
   "source": [
    "import pandas as pd\n",
    "import numpy as np\n",
    "import matplotlib as plt\n",
    "import matplotlib.pyplot as plt\n",
    "import seaborn as sns\n",
    "import re\n",
    "import string\n",
    "import json\n",
    "from collections import Counter\n",
    "\n",
    "import nltk\n",
    "from nltk import pos_tag\n",
    "from nltk.corpus import stopwords\n",
    "from nltk.corpus import wordnet\n",
    "from nltk.tokenize import TweetTokenizer\n",
    "from nltk.stem import WordNetLemmatizer\n",
    "\n",
    "from gensim import corpora\n",
    "from gensim.models.ldamodel import LdaModel\n",
    "import pyLDAvis\n",
    "import pyLDAvis.gensim_models as gensimvis\n",
    "\n",
    "import swifter\n",
    "from tqdm import tqdm\n",
    "tqdm.pandas()\n",
    "\n",
    "# nltk.download('punkt')\n",
    "# nltk.download('wordnet')\n",
    "# nltk.download('stopwords')\n",
    "# nltk.download('omw-1.4')\n",
    "# nltk.download('averaged_perceptron_tagger')\n",
    "# nltk.download('averaged_perceptron_tagger_eng')\n",
    "\n",
    "path_to_folder = \"C:/Users/phku0/Quant_Project\""
   ]
  },
  {
   "cell_type": "markdown",
   "metadata": {},
   "source": [
    "### clean, tokenize & lemmatize"
   ]
  },
  {
   "cell_type": "code",
   "execution_count": null,
   "metadata": {},
   "outputs": [],
   "source": [
    "df = pd.read_parquet(path_to_folder+\"/data_raw/glassd_review_internal_data_2024-03-19.parquet\")"
   ]
  },
  {
   "cell_type": "code",
   "execution_count": null,
   "metadata": {},
   "outputs": [
    {
     "data": {
      "application/vnd.jupyter.widget-view+json": {
       "model_id": "630be8cb70b94e56963901ab897c9aaa",
       "version_major": 2,
       "version_minor": 0
      },
      "text/plain": [
       "Pandas Apply:   0%|          | 0/17282496 [00:00<?, ?it/s]"
      ]
     },
     "metadata": {},
     "output_type": "display_data"
    }
   ],
   "source": [
    "# drop advice column (58% missing)\n",
    "df.drop(['updateDateTime', 'other_data'], axis=1, inplace=True)\n",
    "\n",
    "df = df.dropna(subset=['summary'])\n",
    "df = df.fillna('')\n",
    "\n",
    "# Precompile the regular expressions\n",
    "newline_re = re.compile(r'\\r?\\n+')\n",
    "quote_re = re.compile(r\"’\")\n",
    "dots_re = re.compile(r'\\.{2,}')\n",
    "backslash_re = re.compile(r'\\\\')\n",
    "whitespace_re = re.compile(r'\\s+')\n",
    "\n",
    "def cleanText(text):\n",
    "  text = newline_re.sub('. ', text) # same as text = re.sub(r'\\r?\\n+', '. ', text) etc\n",
    "  text = quote_re.sub(\"'\", text)\n",
    "  text = dots_re.sub('.', text)\n",
    "  text = backslash_re.sub('', text)\n",
    "  text = whitespace_re.sub(' ', text)\n",
    "  text = text.strip().lower()\n",
    "  return text\n",
    "\n",
    "df[['summary', 'pros', 'cons', 'advice']] = df[['summary', 'pros', 'cons', 'advice']].swifter.applymap(cleanText)"
   ]
  },
  {
   "cell_type": "code",
   "execution_count": null,
   "metadata": {},
   "outputs": [
    {
     "data": {
      "application/vnd.jupyter.widget-view+json": {
       "model_id": "af95c723682b48c2a8b9b59ab0debcc9",
       "version_major": 2,
       "version_minor": 0
      },
      "text/plain": [
       "Pandas Apply:   0%|          | 0/17282496 [00:00<?, ?it/s]"
      ]
     },
     "metadata": {},
     "output_type": "display_data"
    }
   ],
   "source": [
    "# Initialization\n",
    "tokenizer = TweetTokenizer(preserve_case=False, strip_handles=True, reduce_len=True) # suitable for informal text\n",
    "lemmatizer = WordNetLemmatizer()\n",
    "stop_words = set(stopwords.words('english'))\n",
    "punctuation_set = set(string.punctuation)\n",
    "\n",
    "POS_TAG_MAP = {'j': wordnet.ADJ, 'n': wordnet.NOUN, 'v': wordnet.VERB, 'r': wordnet.ADV}\n",
    "\n",
    "# Map POS tag for lemmatization\n",
    "def get_POS(word):\n",
    "  tag = pos_tag([word])[0][1][0].lower()\n",
    "  return POS_TAG_MAP.get(tag, wordnet.NOUN)\n",
    "\n",
    "def tokenize(text):\n",
    "  tokens = tokenizer.tokenize(text)\n",
    "\n",
    "  filtered_tokens = [\n",
    "    word for word in tokens\n",
    "    if word not in stop_words\n",
    "    and word not in punctuation_set\n",
    "    and len(word) > 1\n",
    "  ]\n",
    "\n",
    "  if not filtered_tokens:\n",
    "    return tuple()\n",
    "\n",
    "  pos_tags = pos_tag(filtered_tokens)\n",
    "\n",
    "  lemmatized_tokens = [\n",
    "    lemmatizer.lemmatize(word, get_POS(word))\n",
    "    for word, tag in pos_tags\n",
    "  ]\n",
    "  \n",
    "  return tuple(lemmatized_tokens)\n",
    "\n",
    "df[['summary_token', 'pros_token', 'cons_token', 'advice_token']] = df[['summary', 'pros', 'cons', 'advice']].swifter.applymap(tokenize)"
   ]
  },
  {
   "cell_type": "code",
   "execution_count": null,
   "metadata": {},
   "outputs": [],
   "source": [
    "df.to_parquet(path_to_folder+'/data_NLP_checkpoints/2b.new_NLP_cleaned_tokenized.parquet')"
   ]
  },
  {
   "cell_type": "markdown",
   "metadata": {},
   "source": [
    "### aggregate"
   ]
  },
  {
   "cell_type": "code",
   "execution_count": 2,
   "metadata": {},
   "outputs": [],
   "source": [
    "df = pd.read_parquet(path_to_folder+'/data_NLP_checkpoints/2b.new_NLP_cleaned_tokenized.parquet')"
   ]
  },
  {
   "cell_type": "code",
   "execution_count": 3,
   "metadata": {},
   "outputs": [],
   "source": [
    "df['summary_length'] = df['summary'].str.len()\n",
    "df['pros_length'] = df['pros'].str.len()\n",
    "df['cons_length'] = df['cons'].str.len()\n",
    "df['advice_length'] = df['advice'].str.len()\n",
    "\n",
    "df['summary_token_count'] = df['summary_token'].apply(len)\n",
    "df['pros_token_count'] = df['pros_token'].apply(len)\n",
    "df['cons_token_count'] = df['cons_token'].apply(len)\n",
    "df['advice_token_count'] = df['advice_token'].apply(len)"
   ]
  },
  {
   "cell_type": "code",
   "execution_count": 4,
   "metadata": {},
   "outputs": [],
   "source": [
    "df.drop(columns=['summary', 'pros', 'cons', 'advice'], inplace=True)"
   ]
  },
  {
   "cell_type": "code",
   "execution_count": 5,
   "metadata": {},
   "outputs": [],
   "source": [
    "df_sentiment = pd.read_parquet(path_to_folder+'/data_NLP_checkpoints/10.sentiment_roberta.parquet')\n",
    "df = pd.merge(df, df_sentiment, on='reviewId', how='inner')"
   ]
  },
  {
   "cell_type": "code",
   "execution_count": 6,
   "metadata": {},
   "outputs": [],
   "source": [
    "df_sentiment_advice = pd.read_parquet(path_to_folder+'/data_NLP_checkpoints/10b.sentiment_roberta_advice_col.parquet')\n",
    "df = pd.merge(df, df_sentiment_advice, on='reviewId', how='inner')"
   ]
  },
  {
   "cell_type": "code",
   "execution_count": 7,
   "metadata": {},
   "outputs": [],
   "source": [
    "df_sentiment_LLAMA = pd.read_parquet(path_to_folder+'/data_NLP_checkpoints/13.LLM_asba_output.parquet')\n",
    "df_sentiment_LLAMA.rename(columns={\n",
    "    'innovative': 'innovative_llama',\n",
    "    'integrity': 'integrity_llama',\n",
    "    'quality': 'quality_llama',\n",
    "    'respect': 'respect_llama',\n",
    "    'teamwork': 'teamwork_llama'\n",
    "}, inplace=True)\n",
    "\n",
    "df = pd.merge(df, df_sentiment_LLAMA, on='reviewId', how='inner')"
   ]
  },
  {
   "cell_type": "code",
   "execution_count": 8,
   "metadata": {},
   "outputs": [
    {
     "data": {
      "text/html": [
       "<div>\n",
       "<style scoped>\n",
       "    .dataframe tbody tr th:only-of-type {\n",
       "        vertical-align: middle;\n",
       "    }\n",
       "\n",
       "    .dataframe tbody tr th {\n",
       "        vertical-align: top;\n",
       "    }\n",
       "\n",
       "    .dataframe thead th {\n",
       "        text-align: right;\n",
       "    }\n",
       "</style>\n",
       "<table border=\"1\" class=\"dataframe\">\n",
       "  <thead>\n",
       "    <tr style=\"text-align: right;\">\n",
       "      <th></th>\n",
       "      <th>reviewId</th>\n",
       "      <th>summary_token</th>\n",
       "      <th>pros_token</th>\n",
       "      <th>cons_token</th>\n",
       "      <th>advice_token</th>\n",
       "      <th>summary_length</th>\n",
       "      <th>pros_length</th>\n",
       "      <th>cons_length</th>\n",
       "      <th>advice_length</th>\n",
       "      <th>summary_token_count</th>\n",
       "      <th>...</th>\n",
       "      <th>advice_token_count</th>\n",
       "      <th>summary_sentiment</th>\n",
       "      <th>pros_sentiment</th>\n",
       "      <th>cons_sentiment</th>\n",
       "      <th>advice_sentiment</th>\n",
       "      <th>innovative_llama</th>\n",
       "      <th>integrity_llama</th>\n",
       "      <th>quality_llama</th>\n",
       "      <th>respect_llama</th>\n",
       "      <th>teamwork_llama</th>\n",
       "    </tr>\n",
       "  </thead>\n",
       "  <tbody>\n",
       "    <tr>\n",
       "      <th>0</th>\n",
       "      <td>49</td>\n",
       "      <td>[great, internship, experience]</td>\n",
       "      <td>[people, helpful, create, product, impact, wor...</td>\n",
       "      <td>[really, think, there's, downside]</td>\n",
       "      <td>[great, company, hope, everybody, keep, great,...</td>\n",
       "      <td>30</td>\n",
       "      <td>145</td>\n",
       "      <td>46</td>\n",
       "      <td>95</td>\n",
       "      <td>3</td>\n",
       "      <td>...</td>\n",
       "      <td>10</td>\n",
       "      <td>0.958085</td>\n",
       "      <td>0.951453</td>\n",
       "      <td>0.0</td>\n",
       "      <td>0.988652</td>\n",
       "      <td>NaN</td>\n",
       "      <td>NaN</td>\n",
       "      <td>0.99</td>\n",
       "      <td>NaN</td>\n",
       "      <td>0.5</td>\n",
       "    </tr>\n",
       "    <tr>\n",
       "      <th>1</th>\n",
       "      <td>59</td>\n",
       "      <td>[microsoft, stop, treat, people, important, he...</td>\n",
       "      <td>[lot, smart, folk, wide, variety, thing, good,...</td>\n",
       "      <td>[unless, partner, company, treat, like, commod...</td>\n",
       "      <td>[excellence, people, management, can't, come, ...</td>\n",
       "      <td>85</td>\n",
       "      <td>185</td>\n",
       "      <td>158</td>\n",
       "      <td>389</td>\n",
       "      <td>7</td>\n",
       "      <td>...</td>\n",
       "      <td>38</td>\n",
       "      <td>-0.830964</td>\n",
       "      <td>0.956963</td>\n",
       "      <td>0.0</td>\n",
       "      <td>0.000000</td>\n",
       "      <td>NaN</td>\n",
       "      <td>NaN</td>\n",
       "      <td>0.50</td>\n",
       "      <td>NaN</td>\n",
       "      <td>0.5</td>\n",
       "    </tr>\n",
       "  </tbody>\n",
       "</table>\n",
       "<p>2 rows × 22 columns</p>\n",
       "</div>"
      ],
      "text/plain": [
       "   reviewId                                      summary_token  \\\n",
       "0        49                    [great, internship, experience]   \n",
       "1        59  [microsoft, stop, treat, people, important, he...   \n",
       "\n",
       "                                          pros_token  \\\n",
       "0  [people, helpful, create, product, impact, wor...   \n",
       "1  [lot, smart, folk, wide, variety, thing, good,...   \n",
       "\n",
       "                                          cons_token  \\\n",
       "0                 [really, think, there's, downside]   \n",
       "1  [unless, partner, company, treat, like, commod...   \n",
       "\n",
       "                                        advice_token  summary_length  \\\n",
       "0  [great, company, hope, everybody, keep, great,...              30   \n",
       "1  [excellence, people, management, can't, come, ...              85   \n",
       "\n",
       "   pros_length  cons_length  advice_length  summary_token_count  ...  \\\n",
       "0          145           46             95                    3  ...   \n",
       "1          185          158            389                    7  ...   \n",
       "\n",
       "   advice_token_count  summary_sentiment  pros_sentiment  cons_sentiment  \\\n",
       "0                  10           0.958085        0.951453             0.0   \n",
       "1                  38          -0.830964        0.956963             0.0   \n",
       "\n",
       "   advice_sentiment  innovative_llama  integrity_llama  quality_llama  \\\n",
       "0          0.988652               NaN              NaN           0.99   \n",
       "1          0.000000               NaN              NaN           0.50   \n",
       "\n",
       "   respect_llama  teamwork_llama  \n",
       "0            NaN             0.5  \n",
       "1            NaN             0.5  \n",
       "\n",
       "[2 rows x 22 columns]"
      ]
     },
     "execution_count": 8,
     "metadata": {},
     "output_type": "execute_result"
    }
   ],
   "source": [
    "df.head(2)"
   ]
  },
  {
   "cell_type": "code",
   "execution_count": null,
   "metadata": {},
   "outputs": [
    {
     "data": {
      "text/plain": [
       "Index(['reviewId', 'summary_token', 'pros_token', 'cons_token', 'advice_token',\n",
       "       'summary_length', 'pros_length', 'cons_length', 'advice_length',\n",
       "       'summary_token_count', 'pros_token_count', 'cons_token_count',\n",
       "       'advice_token_count', 'summary_sentiment', 'pros_sentiment',\n",
       "       'cons_sentiment', 'advice_sentiment', 'innovative_llama',\n",
       "       'integrity_llama', 'quality_llama', 'respect_llama', 'teamwork_llama'],\n",
       "      dtype='object')"
      ]
     },
     "execution_count": 9,
     "metadata": {},
     "output_type": "execute_result"
    }
   ],
   "source": [
    "df.columns"
   ]
  },
  {
   "cell_type": "code",
   "execution_count": null,
   "metadata": {},
   "outputs": [],
   "source": [
    "df.to_parquet(path_to_folder+'/data_NLP_checkpoints/prod_NLP_cleaned_by_review.parquet')"
   ]
  },
  {
   "cell_type": "markdown",
   "metadata": {},
   "source": [
    "### LDA"
   ]
  },
  {
   "cell_type": "code",
   "execution_count": 9,
   "metadata": {},
   "outputs": [],
   "source": [
    "df_import = pd.read_parquet(path_to_folder+'/data_NLP_checkpoints/prod_NLP_cleaned_by_review.parquet')"
   ]
  },
  {
   "cell_type": "code",
   "execution_count": null,
   "metadata": {},
   "outputs": [],
   "source": [
    "from gensim.models import CoherenceModel\n",
    "from gensim.models.ldamodel import LdaModel\n",
    "from gensim.corpora import Dictionary\n",
    "import matplotlib.pyplot as plt\n",
    "\n",
    "df = df_import.copy()\n",
    "\n",
    "dictionary = corpora.Dictionary(df[\"summary_token\"])\n",
    "corpus = [dictionary.doc2bow(tokens) for tokens in df[\"summary_token\"]]\n",
    "\n",
    "def compute_coherence(corpus, dictionary, num_topics):\n",
    "    lda_model = LdaModel(corpus=corpus, id2word=dictionary, num_topics=num_topics, passes=15, random_state=42)\n",
    "    coherence_model = CoherenceModel(model=lda_model, texts=df[\"summary_token\"], dictionary=dictionary, coherence='c_v')\n",
    "    return coherence_model.get_coherence()\n",
    "\n",
    "topic_range = range(3, 15)  # Test number of topics \n",
    "coherence_scores = []\n",
    "\n",
    "for num_topics in topic_range:\n",
    "    coherence = compute_coherence(corpus, dictionary, num_topics)\n",
    "    coherence_scores.append(coherence)\n",
    "    print(f\"Num Topics: {num_topics}, Coherence Score: {coherence}\")\n",
    "\n",
    "plt.plot(topic_range, coherence_scores)\n",
    "plt.xlabel('Number of Topics')\n",
    "plt.ylabel('Coherence Score')\n",
    "plt.title('Coherence Score vs Number of Topics')\n",
    "plt.show()"
   ]
  },
  {
   "cell_type": "code",
   "execution_count": null,
   "metadata": {},
   "outputs": [
    {
     "name": "stdout",
     "output_type": "stream",
     "text": [
      "Topics generated by LDA:\n",
      "Topic 0: 0.057*\"management\" + 0.043*\"team\" + 0.042*\"benefit\" + 0.032*\"leadership\" + 0.028*\"opportunity\" + 0.026*\"poor\" + 0.024*\"growth\" + 0.020*\"lot\" + 0.019*\"toxic\" + 0.017*\"culture\" + 0.015*\"engineer\" + 0.015*\"product\" + 0.014*\"worth\" + 0.013*\"tech\" + 0.011*\"need\" + 0.011*\"lack\" + 0.010*\"make\" + 0.010*\"much\" + 0.008*\"fast\" + 0.008*\"senior\"\n",
      "Topic 1: 0.206*\"great\" + 0.140*\"work\" + 0.080*\"company\" + 0.076*\"place\" + 0.037*\"culture\" + 0.030*\"pay\" + 0.029*\"people\" + 0.028*\"decent\" + 0.024*\"environment\" + 0.016*\"life\" + 0.016*\"balance\" + 0.016*\"ok\" + 0.014*\"overall\" + 0.013*\"salary\" + 0.013*\"excellent\" + 0.012*\"amaze\" + 0.011*\"okay\" + 0.010*\"well\" + 0.008*\"low\" + 0.007*\"fun\"\n",
      "Topic 2: 0.124*\"job\" + 0.062*\"review\" + 0.030*\"manager\" + 0.028*\"time\" + 0.023*\"love\" + 0.022*\"sale\" + 0.017*\"service\" + 0.016*\"first\" + 0.015*\"go\" + 0.014*\"support\" + 0.013*\"customer\" + 0.013*\"year\" + 0.012*\"like\" + 0.010*\"associate\" + 0.009*\"level\" + 0.008*\"easy\" + 0.008*\"role\" + 0.008*\"depends\" + 0.008*\"entry\" + 0.007*\"project\"\n",
      "Topic 3: 0.282*\"good\" + 0.120*\"company\" + 0.080*\"work\" + 0.061*\"place\" + 0.050*\"best\" + 0.042*\"bad\" + 0.020*\"career\" + 0.018*\"start\" + 0.010*\"get\" + 0.010*\"solid\" + 0.010*\"employer\" + 0.009*\"learn\" + 0.008*\"ever\" + 0.007*\"one\" + 0.007*\"use\" + 0.007*\"fine\" + 0.007*\"pretty\" + 0.006*\"stay\" + 0.006*\"run\" + 0.006*\"away\"\n",
      "Topic 4: 0.092*\"experience\" + 0.046*\"nice\" + 0.038*\"employee\" + 0.028*\"change\" + 0.019*\"awesome\" + 0.016*\"recommend\" + 0.015*\"care\" + 0.015*\"corporate\" + 0.013*\"value\" + 0.012*\"new\" + 0.012*\"analyst\" + 0.011*\"positive\" + 0.010*\"position\" + 0.010*\"avoid\" + 0.009*\"really\" + 0.008*\"top\" + 0.008*\"would\" + 0.008*\"layoff\" + 0.007*\"want\" + 0.007*\"college\"\n"
     ]
    },
    {
     "data": {
      "text/html": [
       "\n",
       "<link rel=\"stylesheet\" type=\"text/css\" href=\"https://cdn.jsdelivr.net/gh/bmabey/pyLDAvis@3.4.0/pyLDAvis/js/ldavis.v1.0.0.css\">\n",
       "\n",
       "\n",
       "<div id=\"ldavis_el3796824786500456324014354829\" style=\"background-color:white;\"></div>\n",
       "<script type=\"text/javascript\">\n",
       "\n",
       "var ldavis_el3796824786500456324014354829_data = {\"mdsDat\": {\"x\": [0.29415060618409095, 0.3036344648405189, -0.21062613080398546, -0.16386691672290263, -0.22329202349772173], \"y\": [-0.008344545362216994, 0.026338871319953668, 0.38434370730183964, -0.2428078368384739, -0.1595301964211023], \"topics\": [1, 2, 3, 4, 5], \"cluster\": [1, 1, 1, 1, 1], \"Freq\": [28.34717018195303, 21.167265349829247, 17.86131330870681, 17.794339808614666, 14.829911350896246]}, \"tinfo\": {\"Term\": [\"good\", \"great\", \"work\", \"job\", \"company\", \"experience\", \"place\", \"review\", \"management\", \"best\", \"bad\", \"team\", \"benefit\", \"nice\", \"employee\", \"pay\", \"culture\", \"people\", \"decent\", \"leadership\", \"manager\", \"time\", \"opportunity\", \"environment\", \"poor\", \"change\", \"growth\", \"love\", \"sale\", \"career\", \"great\", \"pay\", \"people\", \"decent\", \"environment\", \"life\", \"balance\", \"ok\", \"overall\", \"salary\", \"excellent\", \"amaze\", \"okay\", \"well\", \"low\", \"fun\", \"workplace\", \"terrible\", \"horrible\", \"hard\", \"average\", \"friendly\", \"could\", \"hour\", \"part\", \"meh\", \"challenge\", \"flexible\", \"i've\", \"wonderful\", \"work\", \"culture\", \"place\", \"company\", \"learn\", \"grow\", \"good\", \"best\", \"bad\", \"career\", \"start\", \"employer\", \"solid\", \"get\", \"ever\", \"one\", \"fine\", \"use\", \"pretty\", \"stay\", \"run\", \"away\", \"retail\", \"amazon\", \"far\", \"awful\", \"security\", \"fantastic\", \"way\", \"specialist\", \"term\", \"suck\", \"thing\", \"account\", \"ibm\", \"eh\", \"company\", \"place\", \"work\", \"learn\", \"long\", \"job\", \"review\", \"manager\", \"time\", \"love\", \"sale\", \"service\", \"first\", \"go\", \"support\", \"customer\", \"year\", \"like\", \"associate\", \"level\", \"easy\", \"role\", \"depends\", \"entry\", \"alright\", \"project\", \"look\", \"future\", \"student\", \"stressful\", \"hr\", \"store\", \"old\", \"enough\", \"office\", \"management\", \"team\", \"benefit\", \"leadership\", \"opportunity\", \"poor\", \"growth\", \"lot\", \"toxic\", \"engineer\", \"product\", \"worth\", \"tech\", \"lack\", \"make\", \"much\", \"fast\", \"senior\", \"big\", \"technology\", \"organization\", \"pro\", \"software\", \"con\", \"training\", \"leader\", \"money\", \"coworkers\", \"compensation\", \"cool\", \"need\", \"culture\", \"grow\", \"high\", \"experience\", \"nice\", \"employee\", \"change\", \"awesome\", \"recommend\", \"care\", \"corporate\", \"value\", \"new\", \"analyst\", \"positive\", \"position\", \"avoid\", \"really\", \"top\", \"would\", \"layoff\", \"want\", \"college\", \"mixed\", \"quality\", \"staff\", \"take\", \"join\", \"overwork\", \"politics\", \"bank\", \"na\", \"cost\", \"business\", \"industry\"], \"Freq\": [501083.0, 490490.0, 473383.0, 185219.0, 403328.0, 114912.0, 288386.0, 92188.0, 85076.0, 88697.0, 74669.0, 64199.0, 62917.0, 56898.0, 47526.0, 71079.0, 113960.0, 69902.0, 66920.0, 47413.0, 45307.0, 41684.0, 41518.0, 55885.0, 39549.0, 35030.0, 36437.0, 35039.0, 32842.0, 35143.0, 490489.1696912908, 71078.19976451731, 69901.3647956999, 66919.14994774325, 55884.33810814824, 39100.715611692875, 38949.3465114047, 37692.75269249396, 32112.47191016452, 31492.22838598926, 30627.89665186568, 28618.49620276809, 26169.033716163598, 24831.387899784335, 17911.309007841573, 17592.65114450159, 17559.353706737056, 17163.15017960769, 13654.292205929267, 11956.90009693928, 11218.313659292666, 10785.830041120706, 10382.33816709844, 8740.630002659316, 8739.907589421033, 7884.098670789108, 7761.578492723057, 6880.12418091877, 6480.59921361339, 6275.4692826362625, 332188.6577572904, 88096.71893880723, 180709.76394265503, 190582.85558052696, 11720.06148374848, 9185.15107360251, 501082.0971895649, 88696.18249382595, 74668.54510753206, 35142.599095431004, 31536.315944413236, 18465.877082347746, 18489.794189904806, 18586.419965814028, 14953.574192403992, 13166.68186504699, 12666.49272170733, 12685.418900183087, 11969.54258577564, 10999.277698431462, 10995.010152312916, 10383.347281051423, 10363.936642671466, 9441.06615360005, 7019.760354122148, 6960.142850587336, 6854.612437087479, 5829.808607968704, 5854.673553887814, 5635.130958309405, 5534.854371927595, 4745.54600620523, 4648.519682815489, 4232.5120616172435, 3974.487559228874, 3912.8677316531634, 212744.30036509942, 107676.01201044353, 141193.98391110523, 15177.867553920067, 7537.950572468633, 185218.7619621302, 92187.86642256148, 45306.70961040316, 41683.176721389034, 35038.999707720286, 32841.19325476493, 25386.85542622861, 23546.91694857764, 22967.658816416955, 20794.710778404395, 19574.414718737724, 19486.1664388058, 18706.581599886566, 15581.901025378442, 13820.010464430634, 11984.932890279733, 11559.037379712332, 11409.875728394221, 11300.174037822577, 10923.013130945583, 11000.403207235346, 9238.553804913616, 8887.337482145555, 8778.712194286394, 8707.462426924243, 8134.8692017726935, 7819.352057493796, 7672.657830928806, 7530.050167610573, 7350.47438443311, 85075.72453142006, 64198.53871304216, 62916.51368297658, 47412.08602454719, 41517.32232644216, 39548.30437074011, 36436.603712729404, 30405.39439713644, 28632.99690583451, 22359.228414521822, 22250.16393695172, 20595.92553708265, 19868.698362191797, 15975.839455184338, 15564.029835173238, 15423.42123915573, 12545.165683336076, 12290.6374231028, 11935.89188340984, 11648.62134529928, 11374.28384015311, 10916.337437222932, 10933.933145138051, 10755.745154287368, 9647.411542270089, 9304.198634583745, 9302.495218828159, 8924.303561660498, 8325.41079851158, 8268.181311033168, 16196.577395533217, 25863.11361946885, 10641.180541144147, 9848.204715032742, 114911.10399752909, 56897.37687813589, 47525.73795829339, 35029.93133940821, 23584.385092482175, 19656.76420077625, 18718.916380816932, 18077.294865059386, 16352.018201486848, 15475.90461196008, 14695.565265649408, 13148.557023627298, 12681.193498102954, 12410.431463460747, 11595.101045986567, 10239.409607478261, 10066.560249388831, 9933.387749487221, 8878.299105508957, 8432.908387964135, 8194.307417637378, 8042.301992507644, 7741.828361204602, 7709.8485887727875, 7621.735520460351, 7562.760054378455, 7512.447212614929, 7049.24297468287, 6517.9378597210725, 6455.692768453485, 7815.043059450368, 6846.869103889199], \"Total\": [501083.0, 490490.0, 473383.0, 185219.0, 403328.0, 114912.0, 288386.0, 92188.0, 85076.0, 88697.0, 74669.0, 64199.0, 62917.0, 56898.0, 47526.0, 71079.0, 113960.0, 69902.0, 66920.0, 47413.0, 45307.0, 41684.0, 41518.0, 55885.0, 39549.0, 35030.0, 36437.0, 35039.0, 32842.0, 35143.0, 490490.2230457403, 71079.25978168765, 69902.42635151082, 66920.20566861806, 55885.39305266234, 39101.767940622645, 38950.39567820632, 37693.80293465994, 32113.53095836555, 31493.290230891012, 30628.948415381466, 28619.54827640523, 26170.08455755497, 24832.450931708852, 17912.36663028908, 17593.706680686748, 17560.41186368645, 17164.208583696658, 13655.352759000916, 11957.959664541928, 11219.368002824282, 10786.89080703786, 10383.393832232498, 8741.688575304846, 8740.994221587598, 7885.145103723949, 7762.6410710833225, 6881.175871445644, 6481.675533042587, 6276.523576352108, 473383.4896438743, 113960.6264342137, 288386.6206499943, 403328.0069663363, 26898.78615413284, 19827.124197627432, 501083.12562184996, 88697.20781038639, 74669.57423794507, 35143.63166417975, 31537.342916668564, 18466.904545033438, 18490.823201947365, 18587.45504135401, 14954.599873352874, 13167.710871461397, 12667.517782910516, 12686.448328571925, 11970.56895601633, 11000.304856143817, 10996.038314928415, 10384.371855359892, 10364.969926035534, 9442.097813978264, 7020.787791146607, 6961.174804794021, 6855.6538885371565, 5830.836780107693, 5855.711482834297, 5636.170903197539, 5535.882834777236, 4746.577386195557, 4649.556755682515, 4233.553815248055, 3975.523110748146, 3913.8895817726616, 403328.0069663363, 288386.6206499943, 473383.4896438743, 26898.78615413284, 10627.901995121925, 185219.70522716135, 92188.80766374157, 45307.65453152577, 41684.12167827297, 35039.94129962209, 32842.136983774384, 25387.7991487009, 23547.858713949678, 22968.604334101998, 20795.657730980187, 19575.35811873955, 19487.11324444944, 18707.527888983583, 15582.843623562254, 13820.955420502714, 11985.876374170928, 11559.982749023411, 11410.820770561078, 11301.116050025368, 10923.952796526424, 11001.351801016855, 9239.49906730964, 8888.284571998847, 8779.657580870593, 8708.406091347537, 8135.817701394996, 7820.296417735652, 7673.605962230055, 7530.995137341213, 7351.422643832471, 85076.69590431552, 64199.51109108776, 62917.48610947969, 47413.05721509776, 41518.29294544611, 39549.27388271152, 36437.5750842635, 30406.36798822882, 28633.967436156036, 22360.200970773698, 22251.137518738204, 20596.894989736655, 19869.67230201442, 15976.811293540559, 15565.004660855839, 15424.39541829298, 12546.136397032196, 12291.612228248568, 11936.866175557032, 11649.59642841562, 11375.255095305653, 10917.30409354143, 10934.903972439406, 10756.711774798048, 9648.383333468677, 9305.170946207933, 9303.467994347147, 8925.275842408282, 8326.381936121868, 8269.151389440052, 21258.155165295393, 113960.6264342137, 19827.124197627432, 16066.279245833546, 114912.03898264193, 56898.31173958399, 47526.67418956887, 35030.868773534894, 23585.318969972846, 19657.696895288627, 18719.85141048598, 18078.232095025647, 16352.95462371184, 15476.842692794657, 14696.499689917366, 13149.491452115331, 12682.1323175883, 12411.364908657706, 11596.038950461332, 10240.346875084777, 10067.494750667533, 9934.325479671783, 8879.237792287655, 8433.850134736887, 8195.239998651097, 8043.239940638757, 7742.765634740679, 7710.786729173261, 7622.672082625871, 7563.693337366847, 7513.387673584245, 7050.178597384, 6518.868385245028, 6456.628783244242, 12380.958396869557, 9222.732780602772], \"Category\": [\"Default\", \"Default\", \"Default\", \"Default\", \"Default\", \"Default\", \"Default\", \"Default\", \"Default\", \"Default\", \"Default\", \"Default\", \"Default\", \"Default\", \"Default\", \"Default\", \"Default\", \"Default\", \"Default\", \"Default\", \"Default\", \"Default\", \"Default\", \"Default\", \"Default\", \"Default\", \"Default\", \"Default\", \"Default\", \"Default\", \"Topic1\", \"Topic1\", \"Topic1\", \"Topic1\", \"Topic1\", \"Topic1\", \"Topic1\", \"Topic1\", \"Topic1\", \"Topic1\", \"Topic1\", \"Topic1\", \"Topic1\", \"Topic1\", \"Topic1\", \"Topic1\", \"Topic1\", \"Topic1\", \"Topic1\", \"Topic1\", \"Topic1\", \"Topic1\", \"Topic1\", \"Topic1\", \"Topic1\", \"Topic1\", \"Topic1\", \"Topic1\", \"Topic1\", \"Topic1\", \"Topic1\", \"Topic1\", \"Topic1\", \"Topic1\", \"Topic1\", \"Topic1\", \"Topic2\", \"Topic2\", \"Topic2\", \"Topic2\", \"Topic2\", \"Topic2\", \"Topic2\", \"Topic2\", \"Topic2\", \"Topic2\", \"Topic2\", \"Topic2\", \"Topic2\", \"Topic2\", \"Topic2\", \"Topic2\", \"Topic2\", \"Topic2\", \"Topic2\", \"Topic2\", \"Topic2\", \"Topic2\", \"Topic2\", \"Topic2\", \"Topic2\", \"Topic2\", \"Topic2\", \"Topic2\", \"Topic2\", \"Topic2\", \"Topic2\", \"Topic2\", \"Topic2\", \"Topic2\", \"Topic2\", \"Topic3\", \"Topic3\", \"Topic3\", \"Topic3\", \"Topic3\", \"Topic3\", \"Topic3\", \"Topic3\", \"Topic3\", \"Topic3\", \"Topic3\", \"Topic3\", \"Topic3\", \"Topic3\", \"Topic3\", \"Topic3\", \"Topic3\", \"Topic3\", \"Topic3\", \"Topic3\", \"Topic3\", \"Topic3\", \"Topic3\", \"Topic3\", \"Topic3\", \"Topic3\", \"Topic3\", \"Topic3\", \"Topic3\", \"Topic3\", \"Topic4\", \"Topic4\", \"Topic4\", \"Topic4\", \"Topic4\", \"Topic4\", \"Topic4\", \"Topic4\", \"Topic4\", \"Topic4\", \"Topic4\", \"Topic4\", \"Topic4\", \"Topic4\", \"Topic4\", \"Topic4\", \"Topic4\", \"Topic4\", \"Topic4\", \"Topic4\", \"Topic4\", \"Topic4\", \"Topic4\", \"Topic4\", \"Topic4\", \"Topic4\", \"Topic4\", \"Topic4\", \"Topic4\", \"Topic4\", \"Topic4\", \"Topic4\", \"Topic4\", \"Topic4\", \"Topic5\", \"Topic5\", \"Topic5\", \"Topic5\", \"Topic5\", \"Topic5\", \"Topic5\", \"Topic5\", \"Topic5\", \"Topic5\", \"Topic5\", \"Topic5\", \"Topic5\", \"Topic5\", \"Topic5\", \"Topic5\", \"Topic5\", \"Topic5\", \"Topic5\", \"Topic5\", \"Topic5\", \"Topic5\", \"Topic5\", \"Topic5\", \"Topic5\", \"Topic5\", \"Topic5\", \"Topic5\", \"Topic5\", \"Topic5\", \"Topic5\", \"Topic5\"], \"logprob\": [30.0, 29.0, 28.0, 27.0, 26.0, 25.0, 24.0, 23.0, 22.0, 21.0, 20.0, 19.0, 18.0, 17.0, 16.0, 15.0, 14.0, 13.0, 12.0, 11.0, 10.0, 9.0, 8.0, 7.0, 6.0, 5.0, 4.0, 3.0, 2.0, 1.0, -1.5784, -3.5101, -3.5268, -3.5704, -3.7506, -4.1077, -4.1116, -4.1444, -4.3046, -4.3241, -4.3519, -4.4198, -4.5093, -4.5617, -4.8884, -4.9064, -4.9083, -4.9311, -5.1598, -5.2925, -5.3563, -5.3956, -5.4337, -5.6059, -5.6059, -5.709, -5.7247, -5.8452, -5.905, -5.9372, -1.9681, -3.2954, -2.5769, -2.5238, -5.3125, -5.5563, -1.265, -2.9966, -3.1687, -3.9224, -4.0306, -4.5658, -4.5645, -4.5593, -4.7768, -4.9041, -4.9428, -4.9413, -4.9994, -5.0839, -5.0843, -5.1416, -5.1434, -5.2367, -5.533, -5.5416, -5.5568, -5.7188, -5.7145, -5.7527, -5.7707, -5.9246, -5.9452, -6.039, -6.1019, -6.1175, -2.1217, -2.8026, -2.5316, -4.7619, -5.4618, -2.0904, -2.7881, -3.4985, -3.5819, -3.7555, -3.8203, -4.0777, -4.153, -4.1779, -4.2772, -4.3377, -4.3422, -4.3831, -4.5658, -4.6858, -4.8283, -4.8645, -4.8775, -4.8871, -4.9211, -4.914, -5.0886, -5.1273, -5.1396, -5.1478, -5.2158, -5.2553, -5.2743, -5.293, -5.3172, -2.8646, -3.1462, -3.1664, -3.4493, -3.5821, -3.6307, -3.7126, -3.8936, -3.9536, -4.201, -4.2058, -4.2831, -4.319, -4.5371, -4.5632, -4.5723, -4.7789, -4.7994, -4.8286, -4.853, -4.8768, -4.9179, -4.9163, -4.9328, -5.0415, -5.0777, -5.0779, -5.1194, -5.1889, -5.1958, -4.5234, -4.0554, -4.9435, -5.0209, -2.3818, -3.0847, -3.2647, -3.5698, -3.9654, -4.1475, -4.1964, -4.2313, -4.3316, -4.3867, -4.4384, -4.5496, -4.5858, -4.6074, -4.6754, -4.7997, -4.8167, -4.8301, -4.9423, -4.9938, -5.0225, -5.0412, -5.0793, -5.0835, -5.095, -5.1027, -5.1094, -5.173, -5.2514, -5.261, -5.0699, -5.2022], \"loglift\": [30.0, 29.0, 28.0, 27.0, 26.0, 25.0, 24.0, 23.0, 22.0, 21.0, 20.0, 19.0, 18.0, 17.0, 16.0, 15.0, 14.0, 13.0, 12.0, 11.0, 10.0, 9.0, 8.0, 7.0, 6.0, 5.0, 4.0, 3.0, 2.0, 1.0, 1.2606, 1.2606, 1.2606, 1.2606, 1.2606, 1.2606, 1.2606, 1.2606, 1.2606, 1.2606, 1.2606, 1.2606, 1.2606, 1.2606, 1.2606, 1.2606, 1.2606, 1.2606, 1.2606, 1.2606, 1.2605, 1.2605, 1.2605, 1.2605, 1.2605, 1.2605, 1.2605, 1.2605, 1.2605, 1.2605, 0.9064, 1.0032, 0.7932, 0.511, 0.4299, 0.4912, 1.5527, 1.5527, 1.5527, 1.5527, 1.5527, 1.5527, 1.5527, 1.5527, 1.5526, 1.5526, 1.5526, 1.5526, 1.5526, 1.5526, 1.5526, 1.5526, 1.5526, 1.5526, 1.5526, 1.5526, 1.5526, 1.5525, 1.5525, 1.5525, 1.5525, 1.5525, 1.5525, 1.5525, 1.5525, 1.5525, 0.9131, 0.5675, 0.3429, 0.9805, 1.2092, 1.7225, 1.7225, 1.7225, 1.7225, 1.7225, 1.7225, 1.7225, 1.7225, 1.7225, 1.7225, 1.7225, 1.7225, 1.7225, 1.7225, 1.7225, 1.7225, 1.7225, 1.7225, 1.7224, 1.7224, 1.7224, 1.7224, 1.7224, 1.7224, 1.7224, 1.7224, 1.7224, 1.7224, 1.7224, 1.7224, 1.7263, 1.7263, 1.7263, 1.7263, 1.7263, 1.7263, 1.7263, 1.7263, 1.7263, 1.7262, 1.7262, 1.7262, 1.7262, 1.7262, 1.7262, 1.7262, 1.7262, 1.7262, 1.7262, 1.7262, 1.7262, 1.7262, 1.7262, 1.7262, 1.7262, 1.7262, 1.7262, 1.7262, 1.7262, 1.7262, 1.4543, 0.2433, 1.104, 1.2369, 1.9085, 1.9085, 1.9085, 1.9085, 1.9085, 1.9085, 1.9085, 1.9085, 1.9085, 1.9085, 1.9085, 1.9085, 1.9085, 1.9084, 1.9084, 1.9084, 1.9084, 1.9084, 1.9084, 1.9084, 1.9084, 1.9084, 1.9084, 1.9084, 1.9084, 1.9084, 1.9084, 1.9084, 1.9084, 1.9084, 1.4484, 1.6106]}, \"token.table\": {\"Topic\": [2, 3, 1, 2, 5, 3, 1, 5, 2, 5, 2, 2, 1, 5, 4, 2, 4, 4, 5, 5, 2, 1, 5, 5, 1, 2, 4, 4, 4, 5, 5, 1, 4, 1, 4, 3, 1, 3, 3, 2, 5, 2, 4, 3, 3, 1, 2, 1, 5, 2, 2, 4, 2, 3, 1, 1, 1, 3, 2, 3, 2, 1, 1, 4, 4, 1, 1, 4, 1, 1, 3, 1, 2, 4, 5, 3, 5, 4, 5, 4, 4, 1, 2, 3, 1, 3, 1, 2, 3, 4, 3, 1, 4, 4, 3, 1, 5, 4, 4, 5, 4, 5, 5, 5, 3, 1, 1, 3, 2, 4, 4, 1, 5, 1, 1, 1, 1, 2, 5, 4, 5, 5, 2, 4, 4, 3, 5, 5, 5, 2, 3, 3, 2, 1, 3, 2, 4, 3, 4, 2, 2, 5, 2, 2, 3, 3, 3, 2, 3, 5, 4, 4, 4, 2, 1, 2, 3, 5, 4, 4, 2, 5, 5, 2, 1, 1, 1, 2, 1, 4, 5, 3], \"Freq\": [0.9998691843136468, 0.9999127791428459, 0.9999459014380564, 0.999883731984153, 0.9999659993925146, 0.9999458620273274, 0.9998780677464241, 0.9998900275136738, 0.9998678923117353, 0.9999440766531703, 0.9998312346942916, 0.9999923096127047, 0.9999641678041515, 0.999832827301079, 0.9999922738572415, 0.9999863827687905, 0.9999274369382807, 0.36871135930431925, 0.6312112317553681, 0.999954518309611, 0.9999820262121516, 0.9999174158540306, 0.9999751997719352, 0.9998991996865837, 0.47252607482799225, 0.5274714285282863, 0.999834029217916, 0.999933829704379, 0.9998607608706351, 0.9999318464870254, 0.999902614310757, 0.9998657633279622, 0.9998570528876856, 0.773047698635247, 0.22694680442924725, 0.9999306210016025, 0.9999819834890522, 0.9999280708568138, 0.9999268827623805, 0.9997727115816439, 0.9999858145014275, 0.9999510180479229, 0.999946289804136, 0.9998678611095791, 0.9999012442646878, 0.9999750730452763, 0.9999598870342267, 0.9999690353266915, 0.9999909584526467, 0.9998564905622899, 0.9998877916310759, 0.999909422550797, 0.9998801830842848, 0.9999635332469033, 0.9998291176584335, 0.9999174176272111, 0.999959833325656, 0.9998554758245597, 0.9999217191729168, 0.9999736886885591, 0.9999977536225181, 0.9999975064829373, 0.4632542727048183, 0.5366890273110475, 0.9999842172740043, 0.9999197467988813, 0.3869595383518713, 0.6129608386181805, 0.9999009356239424, 0.9999212308584418, 0.9998994936434163, 0.9998957780223426, 0.9996168779036831, 0.25751586395250375, 0.7424046823085445, 0.9999961924830811, 0.9999118310982572, 0.9999492205593686, 0.9998665757756281, 0.9998741617736309, 0.9999777020264067, 0.4357073933687261, 0.5642633802517513, 0.9999308716023136, 0.9999803604628872, 0.9999717820020521, 0.29065002682729035, 0.7092651026947603, 0.9999459854580856, 0.999955009811453, 0.9999731363813071, 0.9999237046495704, 0.9999354538673306, 0.999991820271014, 0.999985553621512, 0.9998547770892119, 0.9998486928203077, 0.9998422099857774, 0.9999095317349473, 0.9998667889588025, 0.7619193610197235, 0.2380733398852146, 0.9999455513756014, 0.9999769458962159, 0.9998064804730463, 0.9999786984969032, 0.9999585573538143, 0.999921032923369, 0.9999460140438732, 0.9999688584150651, 0.9998896644255327, 0.9999523266884749, 0.999908333490542, 0.9998862576084145, 0.9999822763814434, 0.9999795951072764, 0.6266240770556482, 0.3733737707987603, 0.9998153065375391, 0.9999677899848353, 0.9999107155200762, 0.9999626257701965, 0.9999524704282294, 0.9998805480244705, 0.9999488781759024, 0.9998771240988102, 0.9998458406502967, 0.9999104047109733, 0.9999645484772535, 0.999906422686949, 0.9999912390260594, 0.9999149869818367, 0.9999055737258568, 0.9999590315625471, 0.999965380335179, 0.9999046205441833, 0.9999501913795197, 0.9999685223324709, 0.9999173314697885, 0.9999554805138541, 0.9997922520062558, 0.9999011161157657, 0.9999574182050748, 0.9998813800016562, 0.9998342239646171, 0.9998385363139032, 0.9999251017634189, 0.9998783573618254, 0.9999683717154467, 0.9998979703108265, 0.9999920390190038, 0.9999661644135746, 0.9999488026542992, 0.9998405250248994, 0.9999295869838236, 0.9998802561810145, 0.999973090994177, 0.999868473685393, 0.9999662136880545, 0.999856625361901, 0.9998858365608392, 0.9999416237778551, 0.9998605970110711, 0.999878497628105, 0.999941571143628, 0.9997572579257332, 0.7017333879766388, 0.2982655776740757, 0.9999195996257143, 0.999956547346719, 0.9999508566252294, 0.9999428727880074], \"Term\": [\"account\", \"alright\", \"amaze\", \"amazon\", \"analyst\", \"associate\", \"average\", \"avoid\", \"away\", \"awesome\", \"awful\", \"bad\", \"balance\", \"bank\", \"benefit\", \"best\", \"big\", \"business\", \"business\", \"care\", \"career\", \"challenge\", \"change\", \"college\", \"company\", \"company\", \"compensation\", \"con\", \"cool\", \"corporate\", \"cost\", \"could\", \"coworkers\", \"culture\", \"culture\", \"customer\", \"decent\", \"depends\", \"easy\", \"eh\", \"employee\", \"employer\", \"engineer\", \"enough\", \"entry\", \"environment\", \"ever\", \"excellent\", \"experience\", \"fantastic\", \"far\", \"fast\", \"fine\", \"first\", \"flexible\", \"friendly\", \"fun\", \"future\", \"get\", \"go\", \"good\", \"great\", \"grow\", \"grow\", \"growth\", \"hard\", \"high\", \"high\", \"horrible\", \"hour\", \"hr\", \"i've\", \"ibm\", \"industry\", \"industry\", \"job\", \"join\", \"lack\", \"layoff\", \"leader\", \"leadership\", \"learn\", \"learn\", \"level\", \"life\", \"like\", \"long\", \"long\", \"look\", \"lot\", \"love\", \"low\", \"make\", \"management\", \"manager\", \"meh\", \"mixed\", \"money\", \"much\", \"na\", \"need\", \"need\", \"new\", \"nice\", \"office\", \"ok\", \"okay\", \"old\", \"one\", \"opportunity\", \"organization\", \"overall\", \"overwork\", \"part\", \"pay\", \"people\", \"place\", \"place\", \"politics\", \"poor\", \"position\", \"positive\", \"pretty\", \"pro\", \"product\", \"project\", \"quality\", \"really\", \"recommend\", \"retail\", \"review\", \"role\", \"run\", \"salary\", \"sale\", \"security\", \"senior\", \"service\", \"software\", \"solid\", \"specialist\", \"staff\", \"start\", \"stay\", \"store\", \"stressful\", \"student\", \"suck\", \"support\", \"take\", \"team\", \"tech\", \"technology\", \"term\", \"terrible\", \"thing\", \"time\", \"top\", \"toxic\", \"training\", \"use\", \"value\", \"want\", \"way\", \"well\", \"wonderful\", \"work\", \"work\", \"workplace\", \"worth\", \"would\", \"year\"]}, \"R\": 30, \"lambda.step\": 0.01, \"plot.opts\": {\"xlab\": \"PC1\", \"ylab\": \"PC2\"}, \"topic.order\": [2, 4, 3, 1, 5]};\n",
       "\n",
       "function LDAvis_load_lib(url, callback){\n",
       "  var s = document.createElement('script');\n",
       "  s.src = url;\n",
       "  s.async = true;\n",
       "  s.onreadystatechange = s.onload = callback;\n",
       "  s.onerror = function(){console.warn(\"failed to load library \" + url);};\n",
       "  document.getElementsByTagName(\"head\")[0].appendChild(s);\n",
       "}\n",
       "\n",
       "if(typeof(LDAvis) !== \"undefined\"){\n",
       "   // already loaded: just create the visualization\n",
       "   !function(LDAvis){\n",
       "       new LDAvis(\"#\" + \"ldavis_el3796824786500456324014354829\", ldavis_el3796824786500456324014354829_data);\n",
       "   }(LDAvis);\n",
       "}else if(typeof define === \"function\" && define.amd){\n",
       "   // require.js is available: use it to load d3/LDAvis\n",
       "   require.config({paths: {d3: \"https://d3js.org/d3.v5\"}});\n",
       "   require([\"d3\"], function(d3){\n",
       "      window.d3 = d3;\n",
       "      LDAvis_load_lib(\"https://cdn.jsdelivr.net/gh/bmabey/pyLDAvis@3.4.0/pyLDAvis/js/ldavis.v3.0.0.js\", function(){\n",
       "        new LDAvis(\"#\" + \"ldavis_el3796824786500456324014354829\", ldavis_el3796824786500456324014354829_data);\n",
       "      });\n",
       "    });\n",
       "}else{\n",
       "    // require.js not available: dynamically load d3 & LDAvis\n",
       "    LDAvis_load_lib(\"https://d3js.org/d3.v5.js\", function(){\n",
       "         LDAvis_load_lib(\"https://cdn.jsdelivr.net/gh/bmabey/pyLDAvis@3.4.0/pyLDAvis/js/ldavis.v3.0.0.js\", function(){\n",
       "                 new LDAvis(\"#\" + \"ldavis_el3796824786500456324014354829\", ldavis_el3796824786500456324014354829_data);\n",
       "            })\n",
       "         });\n",
       "}\n",
       "</script>"
      ],
      "text/plain": [
       "<IPython.core.display.HTML object>"
      ]
     },
     "execution_count": 3,
     "metadata": {},
     "output_type": "execute_result"
    }
   ],
   "source": [
    "df = df_import.copy()\n",
    "\n",
    "dictionary = corpora.Dictionary(df[\"summary_token\"])\n",
    "corpus = [dictionary.doc2bow(tokens) for tokens in df[\"summary_token\"]]\n",
    "\n",
    "num_topics = 5  # to be tuned\n",
    "lda_model = LdaModel(corpus=corpus, id2word=dictionary, num_topics=num_topics, passes=15, random_state=42)\n",
    "\n",
    "print(\"Topics generated by LDA:\")\n",
    "for idx, topic in lda_model.print_topics(num_words=20):\n",
    "  print(f\"Topic {idx}: {topic}\")\n",
    "\n",
    "df[\"topic_distribution\"] = [lda_model.get_document_topics(bow) for bow in corpus]\n",
    "\n",
    "vis = gensimvis.prepare(lda_model, corpus, dictionary)\n",
    "pyLDAvis.display(vis)"
   ]
  },
  {
   "cell_type": "markdown",
   "metadata": {},
   "source": [
    "### next"
   ]
  },
  {
   "cell_type": "code",
   "execution_count": null,
   "metadata": {},
   "outputs": [
    {
     "data": {
      "application/vnd.jupyter.widget-view+json": {
       "model_id": "bc667fb4e19543fdb10e3cebf37374da",
       "version_major": 2,
       "version_minor": 0
      },
      "text/plain": [
       "Pandas Apply:   0%|          | 0/4320624 [00:00<?, ?it/s]"
      ]
     },
     "metadata": {},
     "output_type": "display_data"
    }
   ],
   "source": [
    "# def evaluate_tokens(row):\n",
    "#   positive_tokens = []\n",
    "#   neutral_tokens = []\n",
    "#   negative_tokens = []\n",
    "\n",
    "#   if row['pros_sentiment'] >= 0.7:\n",
    "#     positive_tokens.extend(row['pros_token'])\n",
    "#   if row['summary_sentiment'] >= 0.7:\n",
    "#     positive_tokens.extend(row['summary_token'])\n",
    "\n",
    "#   if row['pros_sentiment'] >= -0.25 and row['pros_sentiment'] <= 0.25:\n",
    "#     neutral_tokens.extend(row['pros_token'])\n",
    "#   if row['cons_sentiment'] >= -0.25 and row['cons_sentiment'] <= 0.25:\n",
    "#     neutral_tokens.extend(row['cons_token'])\n",
    "#   if row['summary_sentiment'] >= -0.25 and row['summary_sentiment'] <= 0.25:\n",
    "#     neutral_tokens.extend(row['summary_token'])\n",
    "\n",
    "#   if row['cons_sentiment'] <= -0.7:\n",
    "#     negative_tokens.extend(row['cons_token'])\n",
    "#   if row['summary_sentiment'] <= -0.7:\n",
    "#     negative_tokens.extend(row['summary_token'])\n",
    "\n",
    "#   return positive_tokens, neutral_tokens, negative_tokens\n",
    "\n",
    "# df[['positive_tokens', 'neutral_tokens', 'negative_tokens']] = df[['summary_token', 'pros_token', 'cons_token', 'summary_sentiment', 'pros_sentiment', 'cons_sentiment']].swifter.apply(lambda row: pd.Series(evaluate_tokens(row)), axis=1)"
   ]
  },
  {
   "cell_type": "code",
   "execution_count": null,
   "metadata": {},
   "outputs": [],
   "source": [
    "all_positive_tokens = [token for tokens_list in df['positive_tokens'] for token in tokens_list]\n",
    "positive_tokens_counter = Counter(all_positive_tokens)\n",
    "positive_tokens_df = pd.DataFrame(positive_tokens_counter.items(), columns=['positive_token', 'Frequency'])\n",
    "positive_tokens_df = positive_tokens_df.sort_values(by='Frequency', ascending=False)\n",
    "\n",
    "all_negative_tokens = [token for tokens_list in df['negative_tokens'] for token in tokens_list]\n",
    "negative_tokens_counter = Counter(all_negative_tokens)\n",
    "negative_tokens_df = pd.DataFrame(negative_tokens_counter.items(), columns=['negative_token', 'Frequency'])\n",
    "negative_tokens_df = negative_tokens_df.sort_values(by='Frequency', ascending=False)\n",
    "\n",
    "all_neutral_tokens = [token for tokens_list in df['neutral_tokens'] for token in tokens_list]\n",
    "neutral_tokens_counter = Counter(all_neutral_tokens)\n",
    "neutral_tokens_df = pd.DataFrame(neutral_tokens_counter.items(), columns=['neutral_token', 'Frequency'])\n",
    "neutral_tokens_df = neutral_tokens_df.sort_values(by='Frequency', ascending=False)"
   ]
  },
  {
   "cell_type": "code",
   "execution_count": null,
   "metadata": {},
   "outputs": [],
   "source": [
    "work_employment = [\n",
    "    'work', 'job', 'career', 'company', 'employee', 'co-worker', \n",
    "    'coworker', 'colleague', 'staff', 'management', 'manager', \n",
    "    'leadership', 'business', 'industry'\n",
    "]\n",
    "\n",
    "pay_benefits = [\n",
    "    'salary', 'pay', 'bonus', 'benefit', 'discount', 'perk', 'health',\n",
    "    'food'\n",
    "]\n",
    "\n",
    "work_environment_culture = [\n",
    "    'environment', 'culture', 'atmosphere', 'office', 'place', 'fun', \n",
    "    'friendly', 'supportive', 'family', 'team', 'coworkers', 'colleague', \n",
    "    'people', 'everyone'\n",
    "]\n",
    "\n",
    "time_scheduling = [\n",
    "    'hour', 'time', 'day', 'schedule', 'year', 'flexible', 'fast'\n",
    "]\n",
    "\n",
    "growth_development = [\n",
    "    'opportunity', 'learn', 'training', 'growth', 'grow', 'new', \n",
    "    'experience', 'development', 'project', 'start', 'move'\n",
    "]\n",
    "\n",
    "work_life_balance = [\n",
    "    'balance', 'life', 'home', 'flexible', 'care',\n",
    "    'hour', 'time', 'day', 'schedule', 'year', 'flexible', 'fast'\n",
    "]\n",
    "\n",
    "work_quality_performance = [\n",
    "    'excellent', 'decent', 'strong', 'hard', 'best', 'amaze', 'awesome', \n",
    "    'support', 'supportive', 'smart', 'fast',\n",
    "]\n",
    "\n",
    "customer_sales = [\n",
    "    'customer', 'sale', 'product', 'value'\n",
    "]\n",
    "\n",
    "technology_innovation = ['technology']"
   ]
  }
 ],
 "metadata": {
  "kernelspec": {
   "display_name": ".venv",
   "language": "python",
   "name": "python3"
  },
  "language_info": {
   "codemirror_mode": {
    "name": "ipython",
    "version": 3
   },
   "file_extension": ".py",
   "mimetype": "text/x-python",
   "name": "python",
   "nbconvert_exporter": "python",
   "pygments_lexer": "ipython3",
   "version": "3.11.9"
  }
 },
 "nbformat": 4,
 "nbformat_minor": 2
}
